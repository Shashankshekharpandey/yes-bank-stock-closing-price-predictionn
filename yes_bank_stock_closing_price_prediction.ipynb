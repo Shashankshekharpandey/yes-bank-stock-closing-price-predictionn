{
  "cells": [
    {
      "cell_type": "markdown",
      "metadata": {
        "id": "view-in-github",
        "colab_type": "text"
      },
      "source": [
        "<a href=\"https://colab.research.google.com/github/Shashankshekharpandey/yes-bank-stock-closing-price-predictionn/blob/main/yes_bank_stock_closing_price_prediction.ipynb\" target=\"_parent\"><img src=\"https://colab.research.google.com/assets/colab-badge.svg\" alt=\"Open In Colab\"/></a>"
      ]
    },
    {
      "cell_type": "code",
      "execution_count": null,
      "metadata": {
        "id": "EvkmcQPY2QoL"
      },
      "outputs": [],
      "source": [
        "#Importing the dependencies\n",
        "%matplotlib inline\n",
        "import pandas as pd\n",
        "import matplotlib.pyplot as plt\n",
        "import seaborn as sns\n",
        "import numpy as np\n",
        "from sklearn import metrics\n",
        "from sklearn.preprocessing import MinMaxScaler"
      ]
    },
    {
      "cell_type": "code",
      "execution_count": null,
      "metadata": {
        "id": "HPv6-Vfh2QoQ"
      },
      "outputs": [],
      "source": [
        "#Loading the dataset\n",
        "dataset = pd.read_csv(\"data_YesBank_StockPrices.csv\")"
      ]
    },
    {
      "cell_type": "code",
      "execution_count": null,
      "metadata": {
        "id": "l_KIFddP2QoR",
        "outputId": "d84e20a0-1ca9-4dd5-b6dc-9e90851ba264"
      },
      "outputs": [
        {
          "data": {
            "text/html": [
              "<div>\n",
              "<style scoped>\n",
              "    .dataframe tbody tr th:only-of-type {\n",
              "        vertical-align: middle;\n",
              "    }\n",
              "\n",
              "    .dataframe tbody tr th {\n",
              "        vertical-align: top;\n",
              "    }\n",
              "\n",
              "    .dataframe thead th {\n",
              "        text-align: right;\n",
              "    }\n",
              "</style>\n",
              "<table border=\"1\" class=\"dataframe\">\n",
              "  <thead>\n",
              "    <tr style=\"text-align: right;\">\n",
              "      <th></th>\n",
              "      <th>Date</th>\n",
              "      <th>Open</th>\n",
              "      <th>High</th>\n",
              "      <th>Low</th>\n",
              "      <th>Close</th>\n",
              "    </tr>\n",
              "  </thead>\n",
              "  <tbody>\n",
              "    <tr>\n",
              "      <th>0</th>\n",
              "      <td>Jul-05</td>\n",
              "      <td>13.00</td>\n",
              "      <td>14.00</td>\n",
              "      <td>11.25</td>\n",
              "      <td>12.46</td>\n",
              "    </tr>\n",
              "    <tr>\n",
              "      <th>1</th>\n",
              "      <td>Aug-05</td>\n",
              "      <td>12.58</td>\n",
              "      <td>14.88</td>\n",
              "      <td>12.55</td>\n",
              "      <td>13.42</td>\n",
              "    </tr>\n",
              "    <tr>\n",
              "      <th>2</th>\n",
              "      <td>Sep-05</td>\n",
              "      <td>13.48</td>\n",
              "      <td>14.87</td>\n",
              "      <td>12.27</td>\n",
              "      <td>13.30</td>\n",
              "    </tr>\n",
              "    <tr>\n",
              "      <th>3</th>\n",
              "      <td>Oct-05</td>\n",
              "      <td>13.20</td>\n",
              "      <td>14.47</td>\n",
              "      <td>12.40</td>\n",
              "      <td>12.99</td>\n",
              "    </tr>\n",
              "    <tr>\n",
              "      <th>4</th>\n",
              "      <td>Nov-05</td>\n",
              "      <td>13.35</td>\n",
              "      <td>13.88</td>\n",
              "      <td>12.88</td>\n",
              "      <td>13.41</td>\n",
              "    </tr>\n",
              "  </tbody>\n",
              "</table>\n",
              "</div>"
            ],
            "text/plain": [
              "     Date   Open   High    Low  Close\n",
              "0  Jul-05  13.00  14.00  11.25  12.46\n",
              "1  Aug-05  12.58  14.88  12.55  13.42\n",
              "2  Sep-05  13.48  14.87  12.27  13.30\n",
              "3  Oct-05  13.20  14.47  12.40  12.99\n",
              "4  Nov-05  13.35  13.88  12.88  13.41"
            ]
          },
          "execution_count": 4,
          "metadata": {},
          "output_type": "execute_result"
        }
      ],
      "source": [
        "#printing the first five rows \n",
        "dataset.head()"
      ]
    },
    {
      "cell_type": "code",
      "execution_count": null,
      "metadata": {
        "id": "FTICI53e2QoS",
        "outputId": "cb5fd43b-48c9-409b-b598-544248bb0f42"
      },
      "outputs": [
        {
          "name": "stdout",
          "output_type": "stream",
          "text": [
            "<class 'pandas.core.frame.DataFrame'>\n",
            "RangeIndex: 185 entries, 0 to 184\n",
            "Data columns (total 5 columns):\n",
            " #   Column  Non-Null Count  Dtype  \n",
            "---  ------  --------------  -----  \n",
            " 0   Date    185 non-null    object \n",
            " 1   Open    185 non-null    float64\n",
            " 2   High    185 non-null    float64\n",
            " 3   Low     185 non-null    float64\n",
            " 4   Close   185 non-null    float64\n",
            "dtypes: float64(4), object(1)\n",
            "memory usage: 7.4+ KB\n"
          ]
        }
      ],
      "source": [
        "#lets see the information about dataset\n",
        "dataset.info()"
      ]
    },
    {
      "cell_type": "code",
      "execution_count": null,
      "metadata": {
        "id": "qRdzOsXv2QoT",
        "outputId": "b2367041-b95b-4106-a09e-8d4321a13213"
      },
      "outputs": [
        {
          "data": {
            "text/html": [
              "<div>\n",
              "<style scoped>\n",
              "    .dataframe tbody tr th:only-of-type {\n",
              "        vertical-align: middle;\n",
              "    }\n",
              "\n",
              "    .dataframe tbody tr th {\n",
              "        vertical-align: top;\n",
              "    }\n",
              "\n",
              "    .dataframe thead th {\n",
              "        text-align: right;\n",
              "    }\n",
              "</style>\n",
              "<table border=\"1\" class=\"dataframe\">\n",
              "  <thead>\n",
              "    <tr style=\"text-align: right;\">\n",
              "      <th></th>\n",
              "      <th>Open</th>\n",
              "      <th>High</th>\n",
              "      <th>Low</th>\n",
              "      <th>Close</th>\n",
              "    </tr>\n",
              "  </thead>\n",
              "  <tbody>\n",
              "    <tr>\n",
              "      <th>count</th>\n",
              "      <td>185.000000</td>\n",
              "      <td>185.000000</td>\n",
              "      <td>185.000000</td>\n",
              "      <td>185.000000</td>\n",
              "    </tr>\n",
              "    <tr>\n",
              "      <th>mean</th>\n",
              "      <td>105.541405</td>\n",
              "      <td>116.104324</td>\n",
              "      <td>94.947838</td>\n",
              "      <td>105.204703</td>\n",
              "    </tr>\n",
              "    <tr>\n",
              "      <th>std</th>\n",
              "      <td>98.879850</td>\n",
              "      <td>106.333497</td>\n",
              "      <td>91.219415</td>\n",
              "      <td>98.583153</td>\n",
              "    </tr>\n",
              "    <tr>\n",
              "      <th>min</th>\n",
              "      <td>10.000000</td>\n",
              "      <td>11.240000</td>\n",
              "      <td>5.550000</td>\n",
              "      <td>9.980000</td>\n",
              "    </tr>\n",
              "    <tr>\n",
              "      <th>25%</th>\n",
              "      <td>33.800000</td>\n",
              "      <td>36.140000</td>\n",
              "      <td>28.510000</td>\n",
              "      <td>33.450000</td>\n",
              "    </tr>\n",
              "    <tr>\n",
              "      <th>50%</th>\n",
              "      <td>62.980000</td>\n",
              "      <td>72.550000</td>\n",
              "      <td>58.000000</td>\n",
              "      <td>62.540000</td>\n",
              "    </tr>\n",
              "    <tr>\n",
              "      <th>75%</th>\n",
              "      <td>153.000000</td>\n",
              "      <td>169.190000</td>\n",
              "      <td>138.350000</td>\n",
              "      <td>153.300000</td>\n",
              "    </tr>\n",
              "    <tr>\n",
              "      <th>max</th>\n",
              "      <td>369.950000</td>\n",
              "      <td>404.000000</td>\n",
              "      <td>345.500000</td>\n",
              "      <td>367.900000</td>\n",
              "    </tr>\n",
              "  </tbody>\n",
              "</table>\n",
              "</div>"
            ],
            "text/plain": [
              "             Open        High         Low       Close\n",
              "count  185.000000  185.000000  185.000000  185.000000\n",
              "mean   105.541405  116.104324   94.947838  105.204703\n",
              "std     98.879850  106.333497   91.219415   98.583153\n",
              "min     10.000000   11.240000    5.550000    9.980000\n",
              "25%     33.800000   36.140000   28.510000   33.450000\n",
              "50%     62.980000   72.550000   58.000000   62.540000\n",
              "75%    153.000000  169.190000  138.350000  153.300000\n",
              "max    369.950000  404.000000  345.500000  367.900000"
            ]
          },
          "execution_count": 6,
          "metadata": {},
          "output_type": "execute_result"
        }
      ],
      "source": [
        "#descriptive statistics knowledge about dataset\n",
        "dataset.describe()"
      ]
    },
    {
      "cell_type": "code",
      "execution_count": null,
      "metadata": {
        "id": "bMmYsz832QoU",
        "outputId": "416ab97b-9b0e-48bd-ec55-35f670e8dcc7"
      },
      "outputs": [
        {
          "data": {
            "text/plain": [
              "Date     0\n",
              "Open     0\n",
              "High     0\n",
              "Low      0\n",
              "Close    0\n",
              "dtype: int64"
            ]
          },
          "execution_count": 7,
          "metadata": {},
          "output_type": "execute_result"
        }
      ],
      "source": [
        "#checking null values\n",
        "\n",
        "dataset.isnull().sum()"
      ]
    },
    {
      "cell_type": "code",
      "execution_count": null,
      "metadata": {
        "id": "7TAvYMQ32QoV"
      },
      "outputs": [],
      "source": [
        "#Changing Date object to datetime\n",
        "dataset['Date']=pd.to_datetime(dataset.Date, errors = 'coerce')"
      ]
    },
    {
      "cell_type": "code",
      "execution_count": null,
      "metadata": {
        "id": "PISbSWDd2QoV",
        "outputId": "7613e161-a8b9-4cfb-bf60-45da7f300ea2"
      },
      "outputs": [
        {
          "name": "stdout",
          "output_type": "stream",
          "text": [
            "<class 'pandas.core.frame.DataFrame'>\n",
            "RangeIndex: 185 entries, 0 to 184\n",
            "Data columns (total 5 columns):\n",
            " #   Column  Non-Null Count  Dtype         \n",
            "---  ------  --------------  -----         \n",
            " 0   Date    0 non-null      datetime64[ns]\n",
            " 1   Open    185 non-null    float64       \n",
            " 2   High    185 non-null    float64       \n",
            " 3   Low     185 non-null    float64       \n",
            " 4   Close   185 non-null    float64       \n",
            "dtypes: datetime64[ns](1), float64(4)\n",
            "memory usage: 7.4 KB\n"
          ]
        }
      ],
      "source": [
        "dataset.info()"
      ]
    },
    {
      "cell_type": "code",
      "execution_count": null,
      "metadata": {
        "id": "I3RUkclv2QoW",
        "outputId": "a09ff363-cc54-47ac-8e69-c92fa000ec12"
      },
      "outputs": [
        {
          "data": {
            "text/plain": [
              "(185, 5)"
            ]
          },
          "execution_count": 12,
          "metadata": {},
          "output_type": "execute_result"
        }
      ],
      "source": [
        "#checking shape of data\n",
        "dataset.shape"
      ]
    },
    {
      "cell_type": "code",
      "execution_count": null,
      "metadata": {
        "id": "y2pdx7FD2QoX",
        "outputId": "94a4ca94-c195-4e16-bc86-f501b867efc5"
      },
      "outputs": [
        {
          "data": {
            "text/plain": [
              "185"
            ]
          },
          "execution_count": 13,
          "metadata": {},
          "output_type": "execute_result"
        }
      ],
      "source": [
        "#checking length of data\n",
        "len(dataset)"
      ]
    },
    {
      "cell_type": "code",
      "execution_count": null,
      "metadata": {
        "id": "h_XRIgnL2QoY",
        "outputId": "5c7a29a8-2ac7-4ceb-cba9-15494d2d879c"
      },
      "outputs": [
        {
          "data": {
            "text/plain": [
              "<AxesSubplot:>"
            ]
          },
          "execution_count": 14,
          "metadata": {},
          "output_type": "execute_result"
        },
        {
          "data": {
            "image/png": "[encoded data removed]",
            "text/plain": [
              "<Figure size 1152x432 with 1 Axes>"
            ]
          },
          "metadata": {
            "needs_background": "light"
          },
          "output_type": "display_data"
        }
      ],
      "source": [
        "dataset['Open'].plot(figsize=(16,6))"
      ]
    },
    {
      "cell_type": "code",
      "execution_count": null,
      "metadata": {
        "id": "W5ie0Dwj2QoZ"
      },
      "outputs": [],
      "source": []
    },
    {
      "cell_type": "code",
      "execution_count": null,
      "metadata": {
        "id": "FzcKCd902Qoa"
      },
      "outputs": [],
      "source": []
    },
    {
      "cell_type": "code",
      "execution_count": null,
      "metadata": {
        "id": "q_IFi7G02Qoa"
      },
      "outputs": [],
      "source": [
        "X = dataset[['Open','High','Low']]\n",
        "y= dataset['Close']"
      ]
    },
    {
      "cell_type": "code",
      "execution_count": null,
      "metadata": {
        "id": "1wsYF20a2Qob"
      },
      "outputs": [],
      "source": [
        "#importing train test split\n",
        "from sklearn.model_selection import train_test_split\n",
        "X_train,X_test,y_train,y_test = train_test_split(X,y,random_state=0)"
      ]
    },
    {
      "cell_type": "code",
      "execution_count": null,
      "metadata": {
        "id": "EN6FMbgi2Qob",
        "outputId": "c81d5744-f3f6-44dc-cd76-217d5389ffe3"
      },
      "outputs": [
        {
          "data": {
            "text/plain": [
              "(138, 3)"
            ]
          },
          "execution_count": 19,
          "metadata": {},
          "output_type": "execute_result"
        }
      ],
      "source": [
        "X_train.shape"
      ]
    },
    {
      "cell_type": "code",
      "execution_count": null,
      "metadata": {
        "id": "2NV7fuWV2Qoc",
        "outputId": "792d9dec-83ae-4581-9f57-439e917a172c"
      },
      "outputs": [
        {
          "data": {
            "text/plain": [
              "(47, 3)"
            ]
          },
          "execution_count": 20,
          "metadata": {},
          "output_type": "execute_result"
        }
      ],
      "source": [
        "X_test.shape"
      ]
    },
    {
      "cell_type": "code",
      "execution_count": null,
      "metadata": {
        "id": "Ydjudy3Q2Qoc"
      },
      "outputs": [],
      "source": [
        "#importing Linear regression and dependencieds from sklearn\n",
        "from sklearn.linear_model import LinearRegression\n",
        "from sklearn.metrics import confusion_matrix,accuracy_score\n",
        "regressor = LinearRegression()"
      ]
    },
    {
      "cell_type": "code",
      "execution_count": null,
      "metadata": {
        "id": "ICgXKKRP2Qod",
        "outputId": "c7d1b001-9aa3-4201-c102-ec3762c54502"
      },
      "outputs": [
        {
          "data": {
            "text/plain": [
              "LinearRegression()"
            ]
          },
          "execution_count": 23,
          "metadata": {},
          "output_type": "execute_result"
        }
      ],
      "source": [
        "regressor.fit(X_train,y_train)"
      ]
    },
    {
      "cell_type": "code",
      "execution_count": null,
      "metadata": {
        "id": "Na7frHNd2Qod",
        "outputId": "a0cd2162-8474-41ec-a389-ce250832d04e"
      },
      "outputs": [
        {
          "name": "stdout",
          "output_type": "stream",
          "text": [
            "[-0.44864858  0.47263345  1.01280757]\n"
          ]
        }
      ],
      "source": [
        "print(regressor.coef_)"
      ]
    },
    {
      "cell_type": "code",
      "execution_count": null,
      "metadata": {
        "id": "R6X67Bkz2Qoe",
        "outputId": "786298b1-292d-4b8e-b53d-f3f29e043d5a"
      },
      "outputs": [
        {
          "name": "stdout",
          "output_type": "stream",
          "text": [
            "1.454332730796608\n"
          ]
        }
      ],
      "source": [
        "print(regressor.intercept_)"
      ]
    },
    {
      "cell_type": "code",
      "execution_count": null,
      "metadata": {
        "id": "Pk8AFDit2Qoe"
      },
      "outputs": [],
      "source": [
        "#predict the data\n",
        "predicted = regressor.predict(X_test)"
      ]
    },
    {
      "cell_type": "code",
      "execution_count": null,
      "metadata": {
        "id": "nnFUnzcI2Qoe",
        "outputId": "d005809c-288d-40a8-d7c9-d5453d2db9b7"
      },
      "outputs": [
        {
          "name": "stdout",
          "output_type": "stream",
          "text": [
            "       Open    High     Low\n",
            "33    33.90   35.80   28.51\n",
            "125  153.00  154.52  133.71\n",
            "173   70.00   70.50   40.70\n",
            "112  137.10  143.91  132.44\n",
            "61    59.40   68.88   59.01\n",
            "18    27.40   34.16   27.00\n",
            "137  235.40  245.00  218.25\n",
            "7     15.50   16.97   15.40\n",
            "5     13.49   14.44   13.00\n",
            "162  182.85  236.30  181.15\n",
            "152  320.70  325.80  285.10\n",
            "168  109.60  110.60   81.75\n",
            "124  151.73  157.96  144.03\n",
            "71    60.40   63.39   54.80\n",
            "155  348.00  350.10  327.35\n",
            "164  234.60  281.30  228.80\n",
            "63    70.90   76.00   68.21\n",
            "37    25.00   28.98   24.62\n",
            "138  231.98  284.31  226.30\n",
            "54    53.60   57.58   46.42\n",
            "44    10.00   11.24    8.16\n",
            "110  114.60  126.85  107.18\n",
            "166  163.30  178.05  133.05\n",
            "60    53.55   60.94   53.02\n",
            "131  206.40  223.00  201.14\n",
            "171   42.00   76.65   29.05\n",
            "134  273.30  290.00  231.20\n",
            "4     13.35   13.88   12.88\n",
            "108  108.43  114.46  100.44\n",
            "66    62.98   63.54   49.39\n",
            "157  369.95  404.00  338.00\n",
            "144  293.04  372.00  290.78\n",
            "86    66.20   77.69   64.46\n",
            "116  174.80  182.00  156.80\n",
            "26    37.40   41.75   35.30\n",
            "55    49.00   51.48   44.60\n",
            "135  253.41  265.50  245.80\n",
            "113  142.08  155.00  134.00\n",
            "8     16.20   20.95   16.02\n",
            "96    92.40  100.40   57.71\n",
            "170   59.50   72.55   40.95\n",
            "45    10.04   17.51    9.94\n",
            "98    49.20   78.94   44.80\n",
            "56    47.80   52.06   47.30\n",
            "24    35.98   41.04   35.02\n",
            "30    49.99   55.56   30.24\n",
            "180   25.60   28.30   11.10\n"
          ]
        }
      ],
      "source": [
        "print(X_test)"
      ]
    },
    {
      "cell_type": "code",
      "execution_count": null,
      "metadata": {
        "id": "MypX0G-h2Qof"
      },
      "outputs": [],
      "source": [
        "dframe = pd.DataFrame(y_test,predicted)"
      ]
    },
    {
      "cell_type": "code",
      "execution_count": null,
      "metadata": {
        "id": "FRiSdkpE2Qof"
      },
      "outputs": [],
      "source": [
        "dfr = pd.DataFrame({'Actual price' : y_test,'Predicted Price' : predicted})"
      ]
    },
    {
      "cell_type": "code",
      "execution_count": null,
      "metadata": {
        "id": "f3_-uiGR2Qof",
        "outputId": "98c65f41-3421-4845-9ffa-df76a32a318a"
      },
      "outputs": [
        {
          "name": "stdout",
          "output_type": "stream",
          "text": [
            "     Actual price  Predicted Price\n",
            "33          34.06        32.040567\n",
            "125        145.23       141.264921\n",
            "173         46.95        44.590858\n",
            "112        142.08       142.097527\n",
            "61          62.22        67.125374\n",
            "18          30.16        32.652325\n",
            "137        231.26       232.682904\n",
            "7           16.12        18.118106\n",
            "5           13.71        15.393389\n",
            "162        194.30       214.572315\n",
            "152        304.90       300.308149\n",
            "168         91.30        87.352727\n",
            "124        153.30       153.912738\n",
            "71          62.38        59.818048\n",
            "155        339.60       342.336156\n",
            "164        275.05       260.883537\n",
            "63          71.86        74.648895\n",
            "37          26.83        28.870358\n",
            "138        279.10       260.949604\n",
            "54          49.84        51.635530\n",
            "44           9.98        10.544757\n",
            "110        111.70       118.545474\n",
            "166        147.95       147.096453\n",
            "60          58.99        59.930541\n",
            "131        221.30       217.966640\n",
            "171         70.45        48.260506\n",
            "134        250.85       250.063486\n",
            "4           13.41        15.069988\n",
            "108        108.21       108.631384\n",
            "66          52.59        53.252140\n",
            "157        343.40       368.749663\n",
            "144        361.96       340.306181\n",
            "86          76.44        73.758265\n",
            "116        163.31       167.858076\n",
            "26          41.36        40.159430\n",
            "55          47.32        48.972940\n",
            "135        253.52       262.194578\n",
            "113        154.57       146.684742\n",
            "8           20.08        20.313074\n",
            "96          64.76        65.900727\n",
            "170         41.45        50.523769\n",
            "45          15.45        15.293020\n",
            "98          57.50        62.064286\n",
            "56          50.97        52.520026\n",
            "24          37.93        40.177355\n",
            "30          50.54        35.913206\n",
            "180         11.95        14.586620\n"
          ]
        }
      ],
      "source": [
        "print(dfr)"
      ]
    },
    {
      "cell_type": "code",
      "execution_count": null,
      "metadata": {
        "id": "jdmQX8Za2Qof"
      },
      "outputs": [],
      "source": [
        "from sklearn.metrics import confusion_matrix,accuracy_score"
      ]
    },
    {
      "cell_type": "code",
      "execution_count": null,
      "metadata": {
        "id": "lRKguXRS2Qog",
        "outputId": "5dfb0c28-5c3f-4b09-b4da-c28c3ca44b2a"
      },
      "outputs": [
        {
          "data": {
            "text/plain": [
              "0.9933066400922782"
            ]
          },
          "execution_count": 33,
          "metadata": {},
          "output_type": "execute_result"
        }
      ],
      "source": [
        "regressor.score(X_test,y_test)"
      ]
    },
    {
      "cell_type": "code",
      "execution_count": null,
      "metadata": {
        "id": "uxt89TUN2Qog",
        "outputId": "17e7bd53-8147-4a77-8945-549ac5677959"
      },
      "outputs": [
        {
          "name": "stdout",
          "output_type": "stream",
          "text": [
            "Collecting Prophet\n",
            "  Using cached prophet-1.1.1-cp38-cp38-win_amd64.whl (12.1 MB)\n",
            "Requirement already satisfied: tqdm>=4.36.1 in c:\\programdata\\anaconda3\\lib\\site-packages (from Prophet) (4.50.2)\n",
            "Requirement already satisfied: setuptools>=42 in c:\\programdata\\anaconda3\\lib\\site-packages (from Prophet) (50.3.1.post20201107)\n",
            "Requirement already satisfied: convertdate>=2.1.2 in c:\\programdata\\anaconda3\\lib\\site-packages (from Prophet) (2.4.0)\n",
            "Collecting setuptools-git>=1.2\n",
            "  Using cached setuptools_git-1.2-py2.py3-none-any.whl (10 kB)\n",
            "Requirement already satisfied: matplotlib>=2.0.0 in c:\\programdata\\anaconda3\\lib\\site-packages (from Prophet) (3.3.2)\n",
            "Requirement already satisfied: holidays>=0.14.2 in c:\\programdata\\anaconda3\\lib\\site-packages (from Prophet) (0.17)\n",
            "Collecting wheel>=0.37.0\n",
            "  Using cached wheel-0.38.4-py3-none-any.whl (36 kB)\n",
            "Collecting cmdstanpy>=1.0.4\n",
            "  Using cached cmdstanpy-1.0.8-py3-none-any.whl (81 kB)\n",
            "Requirement already satisfied: numpy>=1.15.4 in c:\\programdata\\anaconda3\\lib\\site-packages (from Prophet) (1.19.2)\n",
            "Requirement already satisfied: pandas>=1.0.4 in c:\\programdata\\anaconda3\\lib\\site-packages (from Prophet) (1.1.3)\n",
            "Requirement already satisfied: python-dateutil>=2.8.0 in c:\\programdata\\anaconda3\\lib\\site-packages (from Prophet) (2.8.1)\n",
            "Collecting LunarCalendar>=0.0.9\n",
            "  Using cached LunarCalendar-0.0.9-py2.py3-none-any.whl (18 kB)\n",
            "Requirement already satisfied: pymeeus<=1,>=0.3.13 in c:\\programdata\\anaconda3\\lib\\site-packages (from convertdate>=2.1.2->Prophet) (0.5.11)\n",
            "Requirement already satisfied: cycler>=0.10 in c:\\programdata\\anaconda3\\lib\\site-packages (from matplotlib>=2.0.0->Prophet) (0.10.0)\n",
            "Requirement already satisfied: kiwisolver>=1.0.1 in c:\\programdata\\anaconda3\\lib\\site-packages (from matplotlib>=2.0.0->Prophet) (1.3.0)\n",
            "Requirement already satisfied: certifi>=2020.06.20 in c:\\programdata\\anaconda3\\lib\\site-packages (from matplotlib>=2.0.0->Prophet) (2020.6.20)\n",
            "Requirement already satisfied: pillow>=6.2.0 in c:\\programdata\\anaconda3\\lib\\site-packages (from matplotlib>=2.0.0->Prophet) (8.0.1)\n",
            "Requirement already satisfied: pyparsing!=2.0.4,!=2.1.2,!=2.1.6,>=2.0.3 in c:\\programdata\\anaconda3\\lib\\site-packages (from matplotlib>=2.0.0->Prophet) (2.4.7)\n",
            "Requirement already satisfied: hijri-converter in c:\\programdata\\anaconda3\\lib\\site-packages (from holidays>=0.14.2->Prophet) (2.2.4)\n"
          ]
        },
        {
          "name": "stderr",
          "output_type": "stream",
          "text": [
            "  WARNING: The script wheel.exe is installed in 'C:\\Users\\91797\\AppData\\Roaming\\Python\\Python38\\Scripts' which is not on PATH.\n",
            "  Consider adding this directory to PATH or, if you prefer to suppress this warning, use --no-warn-script-location.\n",
            "  WARNING: The scripts install_cmdstan.exe and install_cxx_toolchain.exe are installed in 'C:\\Users\\91797\\AppData\\Roaming\\Python\\Python38\\Scripts' which is not on PATH.\n",
            "  Consider adding this directory to PATH or, if you prefer to suppress this warning, use --no-warn-script-location.\n",
            "  WARNING: The script lunar-find.exe is installed in 'C:\\Users\\91797\\AppData\\Roaming\\Python\\Python38\\Scripts' which is not on PATH.\n",
            "  Consider adding this directory to PATH or, if you prefer to suppress this warning, use --no-warn-script-location.\n",
            "ERROR: After October 2020 you may experience errors when installing or updating packages. This is because pip will change the way that it resolves dependency conflicts."
          ]
        },
        {
          "name": "stdout",
          "output_type": "stream",
          "text": [
            "Requirement already satisfied: korean-lunar-calendar in c:\\programdata\\anaconda3\\lib\\site-packages (from holidays>=0.14.2->Prophet) (0.3.1)\n",
            "Requirement already satisfied: pytz>=2017.2 in c:\\programdata\\anaconda3\\lib\\site-packages (from pandas>=1.0.4->Prophet) (2020.1)\n",
            "Requirement already satisfied: six>=1.5 in c:\\programdata\\anaconda3\\lib\\site-packages (from python-dateutil>=2.8.0->Prophet) (1.15.0)\n",
            "Collecting ephem>=3.7.5.3\n",
            "  Using cached ephem-4.1.3-cp38-cp38-win_amd64.whl (1.4 MB)\n",
            "Installing collected packages: setuptools-git, wheel, cmdstanpy, ephem, LunarCalendar, Prophet\n",
            "Successfully installed LunarCalendar-0.0.9 Prophet-1.1.1 cmdstanpy-1.0.8 ephem-4.1.3 setuptools-git-1.2 wheel-0.38.4\n"
          ]
        },
        {
          "name": "stderr",
          "output_type": "stream",
          "text": [
            "\n",
            "\n",
            "We recommend you use --use-feature=2020-resolver to test your packages with the new resolver before it becomes the default.\n",
            "\n",
            "cmdstanpy 1.0.8 requires numpy>=1.21, but you'll have numpy 1.19.2 which is incompatible.\n"
          ]
        }
      ],
      "source": [
        "!pip install Prophet --user"
      ]
    },
    {
      "cell_type": "markdown",
      "metadata": {
        "id": "kO1thH7i2Qog"
      },
      "source": [
        "Now we are using Fbprophet for the stock price closing prediction "
      ]
    },
    {
      "cell_type": "code",
      "execution_count": null,
      "metadata": {
        "id": "3SQyzCRS2Qoi",
        "outputId": "c2fe96eb-3fb7-441e-e923-65263ebd9952"
      },
      "outputs": [
        {
          "name": "stdout",
          "output_type": "stream",
          "text": [
            "Collecting plotly\n",
            "  Downloading plotly-5.11.0-py2.py3-none-any.whl (15.3 MB)\n",
            "Collecting tenacity>=6.2.0\n",
            "  Downloading tenacity-8.1.0-py3-none-any.whl (23 kB)\n",
            "Installing collected packages: tenacity, plotly\n",
            "Successfully installed plotly-5.11.0 tenacity-8.1.0\n"
          ]
        }
      ],
      "source": [
        "!pip install plotly"
      ]
    },
    {
      "cell_type": "code",
      "execution_count": null,
      "metadata": {
        "id": "B3ALEB9P2Qoj",
        "outputId": "477adfa7-2e26-4998-ed3c-92830577a77b"
      },
      "outputs": [
        {
          "ename": "ModuleNotFoundError",
          "evalue": "No module named 'fbprophet'",
          "output_type": "error",
          "traceback": [
            "\u001b[1;31m---------------------------------------------------------------------------\u001b[0m",
            "\u001b[1;31mModuleNotFoundError\u001b[0m                       Traceback (most recent call last)",
            "\u001b[1;32m<ipython-input-61-e144b0f1ebea>\u001b[0m in \u001b[0;36m<module>\u001b[1;34m\u001b[0m\n\u001b[0;32m      1\u001b[0m \u001b[1;32mimport\u001b[0m \u001b[0mplotly\u001b[0m\u001b[1;33m.\u001b[0m\u001b[0mexpress\u001b[0m \u001b[1;32mas\u001b[0m \u001b[0mpx\u001b[0m\u001b[1;33m\u001b[0m\u001b[1;33m\u001b[0m\u001b[0m\n\u001b[1;32m----> 2\u001b[1;33m \u001b[1;32mfrom\u001b[0m \u001b[0mfbprophet\u001b[0m \u001b[1;32mimport\u001b[0m \u001b[0mProphet\u001b[0m\u001b[1;33m\u001b[0m\u001b[1;33m\u001b[0m\u001b[0m\n\u001b[0m",
            "\u001b[1;31mModuleNotFoundError\u001b[0m: No module named 'fbprophet'"
          ]
        }
      ],
      "source": [
        "import plotly.express as px\n",
        "from fbprophet import Prophet"
      ]
    },
    {
      "cell_type": "code",
      "execution_count": null,
      "metadata": {
        "id": "Mhm-JwgX2Qok"
      },
      "outputs": [],
      "source": [
        "import plotly.io as pio\n",
        "pio.renderers.default='colab'\n"
      ]
    },
    {
      "cell_type": "code",
      "execution_count": null,
      "metadata": {
        "id": "nZY6vhSv2Qok"
      },
      "outputs": [],
      "source": [
        " px.area(df,x=\"Date\",y=\"Close\")"
      ]
    },
    {
      "cell_type": "code",
      "execution_count": null,
      "metadata": {
        "id": "PAJ7sJNc2Qol"
      },
      "outputs": [],
      "source": []
    },
    {
      "cell_type": "code",
      "execution_count": null,
      "metadata": {
        "id": "ujnAOTUm2Qol"
      },
      "outputs": [],
      "source": []
    }
  ],
  "metadata": {
    "kernelspec": {
      "display_name": "Python 3",
      "language": "python",
      "name": "python3"
    },
    "language_info": {
      "codemirror_mode": {
        "name": "ipython",
        "version": 3
      },
      "file_extension": ".py",
      "mimetype": "text/x-python",
      "name": "python",
      "nbconvert_exporter": "python",
      "pygments_lexer": "ipython3",
      "version": "3.8.5"
    },
    "colab": {
      "provenance": [],
      "include_colab_link": true
    }
  },
  "nbformat": 4,
  "nbformat_minor": 0
}